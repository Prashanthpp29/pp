{
 "cells": [
  {
   "cell_type": "markdown",
   "id": "112e8168",
   "metadata": {},
   "source": [
    "Exercise 2.Create markdown cell with title of the notebook\n",
    "\n",
    "# Data Science Tools and Ecosystem"
   ]
  },
  {
   "cell_type": "markdown",
   "id": "08b8f528",
   "metadata": {},
   "source": [
    "Exercise 3.Create a markdown cell for an introduction\n",
    "\n",
    "### In this notebook, Data Science Tools and Ecosystem are summarized\n",
    "\n",
    "__Objectives__:\n",
    "\n",
    "- List popular languages that Data Scientists use.\n",
    "- List commonly used libraries used by Data Scientists.\n",
    "- Comment on Data Science tools"
   ]
  },
  {
   "cell_type": "markdown",
   "id": "8f4fc84d",
   "metadata": {},
   "source": [
    "Exercise 4 - Create a markdown cell to list data science languages\n",
    "\n",
    "1.Python\\\n",
    "2.R\\\n",
    "3.SQL \\\n",
    "4.Julia \\\n",
    "5.Java \\\n",
    "6.scala\\\n",
    "7.C/C++\\\n",
    "8.JavaScript"
   ]
  },
  {
   "cell_type": "markdown",
   "id": "42ca061b",
   "metadata": {},
   "source": [
    "Exercise 5 - Create a markdown cell to list data science libraries\n",
    "\n",
    "Some of the commonly used libraries used by Data Scientists include:\n",
    "\n",
    "1.TensorFlow.\\\n",
    "2.NumPy.\\\n",
    "3.SciPy.\\\n",
    "4.Pandas.\\\n",
    "5.Matplotlib.\\\n",
    "6.Keras.\\\n",
    "7.SciKit-Learn.\\\n",
    "8.PyTorch.\\\n",
    "9.Scrapy.\\\n",
    "10.BeautifulSoup."
   ]
  },
  {
   "cell_type": "markdown",
   "id": "c844c04d",
   "metadata": {},
   "source": [
    "Exercise 6 - Create a markdown cell with a table of Data Science tools\n",
    "\n",
    "|   Data Science Tools  |\n",
    "| -------- |\n",
    "|  Casandra | \n",
    "| Mangodb | \n",
    "|  spark   | \n",
    "|  Tensorflow   | \n",
    "|  Hue   | "
   ]
  },
  {
   "cell_type": "markdown",
   "id": "c788899f",
   "metadata": {},
   "source": []
  },
  {
   "cell_type": "markdown",
   "id": "1dfd05d0",
   "metadata": {},
   "source": [
    "Exercise 7 - Create a markdown cell introducing arithmetic expression examples\n",
    "\n",
    "### Below are a few examples of evaluating arithmetic expressions in Python\n",
    "\n",
    "# Arithmetic operations\n"
   ]
  },
  {
   "cell_type": "markdown",
   "id": "93835eac",
   "metadata": {},
   "source": [
    "Exercise 8 - Create a code cell to multiply and add numbers\n",
    "\n",
    " This a simple arithmetic expression to mutiply then add integers"
   ]
  },
  {
   "cell_type": "code",
   "execution_count": 12,
   "id": "b4a2c07d",
   "metadata": {},
   "outputs": [
    {
     "data": {
      "text/plain": [
       "17"
      ]
     },
     "execution_count": 12,
     "metadata": {},
     "output_type": "execute_result"
    }
   ],
   "source": [
    "(3*4)+5"
   ]
  },
  {
   "cell_type": "markdown",
   "id": "7d3c3312",
   "metadata": {},
   "source": [
    "Exercise 9 - Create a code cell to convert minutes to hours\n",
    "  - This will convert 200 minutes to hours by diving by 60"
   ]
  },
  {
   "cell_type": "code",
   "execution_count": 1,
   "id": "9a841ecb",
   "metadata": {},
   "outputs": [
    {
     "data": {
      "text/plain": [
       "3.3333333333333335"
      ]
     },
     "execution_count": 1,
     "metadata": {},
     "output_type": "execute_result"
    }
   ],
   "source": [
    "200/60"
   ]
  },
  {
   "cell_type": "markdown",
   "id": "a6079f67",
   "metadata": {},
   "source": [
    "Exercise 11 - Create a markdown cell to indicate the Author's name \n",
    "\n",
    "## Authors\n",
    "\n",
    "Lakshmi Holla\n",
    "\n",
    "Niveditha Pandith\n"
   ]
  },
  {
   "cell_type": "markdown",
   "id": "f76eca40",
   "metadata": {},
   "source": [
    "Exercise 10 -Insert a markdown cell to list Objectives.\n",
    "\n",
    "Below the introduction cell created in Exercise 3, insert a new markdown cell to list the objectives that this notebook covered (i.e. some of the key takeaways from the course). In this new cell start with an introductory line titled: Objectives: in bold font. Then using an unordered list (bullets) indicate 3 to 5 items covered in this notebook, such as List popular languages for Data Science."
   ]
  },
  {
   "cell_type": "code",
   "execution_count": null,
   "id": "669dd78e",
   "metadata": {},
   "outputs": [],
   "source": []
  }
 ],
 "metadata": {
  "kernelspec": {
   "display_name": "Python 3 (ipykernel)",
   "language": "python",
   "name": "python3"
  },
  "language_info": {
   "codemirror_mode": {
    "name": "ipython",
    "version": 3
   },
   "file_extension": ".py",
   "mimetype": "text/x-python",
   "name": "python",
   "nbconvert_exporter": "python",
   "pygments_lexer": "ipython3",
   "version": "3.11.7"
  }
 },
 "nbformat": 4,
 "nbformat_minor": 5
}
