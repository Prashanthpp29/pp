{
 "cells": [
  {
   "cell_type": "markdown",
   "id": "f7da9e8b",
   "metadata": {},
   "source": [
    "Exercise 2.Create markdown cell with title of the notebook\n",
    "\n",
    "# Data Science Tools and Ecosystem"
   ]
  },
  {
   "cell_type": "markdown",
   "id": "f05ea598",
   "metadata": {},
   "source": [
    "Exercise 3.Create a markdown cell for an introduction\n",
    "\n",
    "### In this notebook, Data Science Tools and Ecosystem are summarized\n",
    "\n",
    "__Objectives__:\n",
    "\n",
    "- List popular languages that Data Scientists use.\n",
    "- List commonly used libraries used by Data Scientists.\n",
    "- Comment on Data Science tools"
   ]
  },
  {
   "cell_type": "markdown",
   "id": "b4518324",
   "metadata": {},
   "source": [
    "Exercise 4 - Create a markdown cell to list data science languages\n",
    "\n",
    "1.Python\\\n",
    "2.R\\\n",
    "3.SQL \\\n",
    "4.Julia \\\n",
    "5.Java \\\n",
    "6.scala\\\n",
    "7.C/C++\\\n",
    "8.JavaScript"
   ]
  },
  {
   "cell_type": "markdown",
   "id": "0d84ada5",
   "metadata": {},
   "source": [
    "Exercise 5 - Create a markdown cell to list data science libraries\n",
    "\n",
    "Some of the commonly used libraries used by Data Scientists include:\n",
    "\n",
    "1.TensorFlow.\\\n",
    "2.NumPy.\\\n",
    "3.SciPy.\\\n",
    "4.Pandas.\\\n",
    "5.Matplotlib.\\\n",
    "6.Keras.\\\n",
    "7.SciKit-Learn.\\\n",
    "8.PyTorch.\\\n",
    "9.Scrapy.\\\n",
    "10.BeautifulSoup."
   ]
  },
  {
   "cell_type": "markdown",
   "id": "77cda3d6",
   "metadata": {},
   "source": [
    "Exercise 6 - Create a markdown cell with a table of Data Science tools\n",
    "\n",
    "|   Data Science Tools  |\n",
    "| -------- |\n",
    "|  Casandra | \n",
    "| Mangodb | \n",
    "|  spark   | \n",
    "|  Tensorflow   | \n",
    "|  Hue   | "
   ]
  },
  {
   "cell_type": "markdown",
   "id": "1628a265",
   "metadata": {},
   "source": []
  },
  {
   "cell_type": "markdown",
   "id": "805d7934",
   "metadata": {},
   "source": [
    "Exercise 7 - Create a markdown cell introducing arithmetic expression examples\n",
    "\n",
    "### Below are a few examples of evaluating arithmetic expressions in Python\n",
    "\n",
    "# Arithmetic operations\n"
   ]
  },
  {
   "cell_type": "code",
   "execution_count": 11,
   "id": "e66f7108",
   "metadata": {},
   "outputs": [
    {
     "name": "stdout",
     "output_type": "stream",
     "text": [
      "Addition value is 30\n",
      "Subtraction value is -10\n",
      "Multiplication value is 200\n"
     ]
    }
   ],
   "source": [
    "a = 10\n",
    "b = 20\n",
    "c = a+b\n",
    "d = a-b\n",
    "e = a*b\n",
    "print(\"Addition value is\",c)\n",
    "print(\"Subtraction value is\",d)\n",
    "print(\"Multiplication value is\",e)\n"
   ]
  },
  {
   "cell_type": "markdown",
   "id": "4e9c56b0",
   "metadata": {},
   "source": [
    "Exercise 8 - Create a code cell to multiply and add numbers\n",
    "\n",
    " This a simple arithmetic expression to mutiply then add integers"
   ]
  },
  {
   "cell_type": "code",
   "execution_count": 12,
   "id": "ba3816d7",
   "metadata": {},
   "outputs": [
    {
     "data": {
      "text/plain": [
       "17"
      ]
     },
     "execution_count": 12,
     "metadata": {},
     "output_type": "execute_result"
    }
   ],
   "source": [
    "(3*4)+5"
   ]
  },
  {
   "cell_type": "markdown",
   "id": "11805435",
   "metadata": {},
   "source": [
    "Exercise 9 - Create a code cell to convert minutes to hours\n",
    "  - This will convert 200 minutes to hours by diving by 60"
   ]
  },
  {
   "cell_type": "code",
   "execution_count": 13,
   "id": "7659d7fa",
   "metadata": {},
   "outputs": [
    {
     "name": "stdout",
     "output_type": "stream",
     "text": [
      "Enter time in minutes 200\n",
      "Hours= 3\n",
      "Minutes= 20\n"
     ]
    }
   ],
   "source": [
    "min=int(input(\"Enter time in minutes\"))\n",
    "h=min//60\n",
    "m=min%60\n",
    "print(\"Hours=\",h)\n",
    "print(\"Minutes=\",m)"
   ]
  },
  {
   "cell_type": "markdown",
   "id": "384925ab",
   "metadata": {},
   "source": [
    "Exercise 11 - Create a markdown cell to indicate the Author's name \n",
    "\n",
    "## Authors\n",
    "\n",
    "Lakshmi Holla\n",
    "\n",
    "Niveditha Pandith\n"
   ]
  },
  {
   "cell_type": "markdown",
   "id": "82a87249",
   "metadata": {},
   "source": [
    "Exercise 10 -Insert a markdown cell to list Objectives.\n",
    "\n",
    "Below the introduction cell created in Exercise 3, insert a new markdown cell to list the objectives that this notebook covered (i.e. some of the key takeaways from the course). In this new cell start with an introductory line titled: Objectives: in bold font. Then using an unordered list (bullets) indicate 3 to 5 items covered in this notebook, such as List popular languages for Data Science."
   ]
  },
  {
   "cell_type": "code",
   "execution_count": null,
   "id": "b5129aa0",
   "metadata": {},
   "outputs": [],
   "source": []
  }
 ],
 "metadata": {
  "kernelspec": {
   "display_name": "Python 3 (ipykernel)",
   "language": "python",
   "name": "python3"
  },
  "language_info": {
   "codemirror_mode": {
    "name": "ipython",
    "version": 3
   },
   "file_extension": ".py",
   "mimetype": "text/x-python",
   "name": "python",
   "nbconvert_exporter": "python",
   "pygments_lexer": "ipython3",
   "version": "3.11.7"
  }
 },
 "nbformat": 4,
 "nbformat_minor": 5
}
